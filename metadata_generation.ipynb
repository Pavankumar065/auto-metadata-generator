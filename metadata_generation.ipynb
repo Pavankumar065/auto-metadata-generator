{
 "cells": [
  {
   "cell_type": "code",
   "execution_count": 1,
   "id": "240319ac-4170-4481-bf1a-05cac5a1788f",
   "metadata": {},
   "outputs": [],
   "source": [
    "\n",
    "from llama_index.core.schema import MetadataMode\n",
    "from llama_index.llms.ollama import Ollama"
   ]
  },
  {
   "cell_type": "code",
   "execution_count": 2,
   "id": "bb96e236-79a9-4268-b540-7beef1ec3340",
   "metadata": {},
   "outputs": [],
   "source": [
    "from llama_index.llms.openai import OpenAI"
   ]
  },
  {
   "cell_type": "code",
   "execution_count": 3,
   "id": "fc8b1de7-c35f-4a45-9fd3-bfa9604638bb",
   "metadata": {},
   "outputs": [],
   "source": [
    "\n",
    "import nest_asyncio\n",
    "\n",
    "nest_asyncio.apply()"
   ]
  },
  {
   "cell_type": "code",
   "execution_count": 4,
   "id": "f18a64d3-cbd9-44d5-b0b4-34a7c729a340",
   "metadata": {},
   "outputs": [],
   "source": [
    "\n",
    "llm = Ollama(model=\"tinyllama\")"
   ]
  },
  {
   "cell_type": "code",
   "execution_count": 5,
   "id": "aae0e7fe-a139-423a-af61-1cc26e45e779",
   "metadata": {},
   "outputs": [],
   "source": [
    "from llama_index.core.extractors import (\n",
    "    SummaryExtractor,\n",
    "    QuestionsAnsweredExtractor,\n",
    "    TitleExtractor,\n",
    "    KeywordExtractor,\n",
    "    BaseExtractor,\n",
    ")"
   ]
  },
  {
   "cell_type": "code",
   "execution_count": 6,
   "id": "510ef4d0-3390-476a-9f26-a66d34f31f2c",
   "metadata": {},
   "outputs": [],
   "source": [
    "from llama_index.extractors.entity import EntityExtractor\n",
    "from llama_index.core.node_parser import TokenTextSplitter\n"
   ]
  },
  {
   "cell_type": "code",
   "execution_count": 7,
   "id": "5ff8d55b-8647-4237-95db-5cee25a28405",
   "metadata": {},
   "outputs": [],
   "source": [
    "\n",
    "text_splitter = TokenTextSplitter(\n",
    "    separator=\" \"\n",
    ")\n"
   ]
  },
  {
   "cell_type": "code",
   "execution_count": 8,
   "id": "dd9f730f-2152-4a62-bad1-81d794a55785",
   "metadata": {},
   "outputs": [],
   "source": [
    "class CustomExtractor(BaseExtractor):\n",
    "    def extract(self, nodes):\n",
    "        metadata_list = [\n",
    "            {\n",
    "                \"custom\": (\n",
    "                    node.metadata[\"document_title\"]\n",
    "                    + \"\\n\"\n",
    "                    + node.metadata[\"excerpt_keywords\"]\n",
    "                )\n",
    "            }\n",
    "            for node in nodes\n",
    "        ]\n",
    "        return metadata_list"
   ]
  },
  {
   "cell_type": "code",
   "execution_count": 9,
   "id": "3b6f17bf-b7e2-45ae-890b-06e77cb7b62b",
   "metadata": {},
   "outputs": [],
   "source": [
    "extractors = [\n",
    "    TitleExtractor(nodes=5, llm=llm),\n",
    "    QuestionsAnsweredExtractor(questions=3, llm=llm),\n",
    "     #EntityExtractor(prediction_threshold=0.5),\n",
    "     SummaryExtractor(summaries=[\"prev\", \"self\"], llm=llm),\n",
    "     KeywordExtractor(keywords=10, llm=llm),\n",
    "    # CustomExtractor()\n",
    "]\n",
    "\n",
    "transformations = [text_splitter] + extractors"
   ]
  },
  {
   "cell_type": "code",
   "execution_count": 10,
   "id": "64df25b3-fd17-403a-a4ba-efff11d9bc22",
   "metadata": {},
   "outputs": [],
   "source": [
    "from llama_index.core import SimpleDirectoryReader"
   ]
  },
  {
   "cell_type": "code",
   "execution_count": 11,
   "id": "e9420c9d-6633-4bf5-bfab-4c0719564490",
   "metadata": {},
   "outputs": [],
   "source": [
    "\n",
    "#replace with your pdf path\n",
    "docs = SimpleDirectoryReader(input_files=[\"C:/Users/ponna/Downloads/REPORT_24114065.pdf\"]).load_data()\n",
    "front_pages = docs[0:3]\n",
    "content = docs[63:69]\n",
    "docs = front_pages + content"
   ]
  },
  {
   "cell_type": "code",
   "execution_count": 12,
   "id": "644fe78b-fdc5-4a8e-b904-13f514e25955",
   "metadata": {},
   "outputs": [],
   "source": [
    "\n",
    "import nest_asyncio\n",
    "\n",
    "nest_asyncio.apply()"
   ]
  },
  {
   "cell_type": "code",
   "execution_count": 13,
   "id": "b99df6fa-c7a1-4012-a892-aef5d7328e53",
   "metadata": {},
   "outputs": [],
   "source": [
    "from llama_index.core.ingestion import IngestionPipeline\n",
    "\n",
    "pipeline = IngestionPipeline(transformations=transformations)\n",
    "#nest_asyncio.apply()\n"
   ]
  },
  {
   "cell_type": "code",
   "execution_count": 15,
   "id": "1e703136-f1e5-4823-82ea-e69bdcc0b869",
   "metadata": {},
   "outputs": [
    {
     "name": "stderr",
     "output_type": "stream",
     "text": [
      "100%|████████████████████████████████████████████████████████████████████████████████████| 3/3 [00:27<00:00,  9.21s/it]\n",
      "100%|████████████████████████████████████████████████████████████████████████████████████| 3/3 [00:11<00:00,  3.88s/it]\n",
      "100%|████████████████████████████████████████████████████████████████████████████████████| 3/3 [00:10<00:00,  3.55s/it]\n",
      "100%|████████████████████████████████████████████████████████████████████████████████████| 3/3 [00:14<00:00,  4.91s/it]\n"
     ]
    }
   ],
   "source": [
    "nodes = await pipeline.arun(documents=docs)"
   ]
  },
  {
   "cell_type": "code",
   "execution_count": 16,
   "id": "8a811199-7233-41ae-bc15-22f7efa45fb3",
   "metadata": {},
   "outputs": [
    {
     "data": {
      "text/plain": [
       "3"
      ]
     },
     "execution_count": 16,
     "metadata": {},
     "output_type": "execute_result"
    }
   ],
   "source": [
    "len(nodes)"
   ]
  },
  {
   "cell_type": "code",
   "execution_count": 17,
   "id": "9c5bc419-8a60-4433-8928-1ba615e85e8c",
   "metadata": {},
   "outputs": [
    {
     "data": {
      "text/plain": [
       "'The project aims to improve credit risk management frameworks by developing a forward-looking classification model with behavioral data and risk-based techniques using data sources such as historical behavioral data, financial indicator data, and machine learning techniques. The project involves analyzing and comparing multiple models based on business risk trade-offs and selecting an appropriate performance metric like F1-score or precision to guide final prediction. It also conducts in-depth analysis of behavioral treaties, engineers meaningful features, and evaluates and optimizes classification thresholds based on business risk traditions, selects final predictions using real-world credit risk managemet goals, and generates risk-informed predictions on an unlabelled validation set.'"
      ]
     },
     "execution_count": 17,
     "metadata": {},
     "output_type": "execute_result"
    }
   ],
   "source": [
    "nodes[0].metadata[\"section_summary\"]"
   ]
  },
  {
   "cell_type": "code",
   "execution_count": 18,
   "id": "da0053c1-e31e-4764-97f7-371be08602e8",
   "metadata": {},
   "outputs": [
    {
     "data": {
      "text/plain": [
       "3"
      ]
     },
     "execution_count": 18,
     "metadata": {},
     "output_type": "execute_result"
    }
   ],
   "source": [
    "len(nodes)"
   ]
  },
  {
   "cell_type": "code",
   "execution_count": 19,
   "id": "8bda0d87-ecb6-4f42-9558-3c56f5aaf9c0",
   "metadata": {},
   "outputs": [
    {
     "name": "stdout",
     "output_type": "stream",
     "text": [
      "{'page_label': '1', 'file_name': 'REPORT_24114065.pdf', 'file_path': 'C:\\\\Users\\\\ponna\\\\Downloads\\\\REPORT_24114065.pdf', 'file_type': 'application/pdf', 'file_size': 6407402, 'creation_date': '2025-06-16', 'last_modified_date': '2025-06-16', 'document_title': 'Title: Project 2: Credit Card Behavior Score Prediction Using Classification and Risky Techniques\\n\\nOverview: This project aims to improve the credit risk management framework of a bank by developing a forward-looking classification model using behavioral data and risk-based techniques. The goal is to create an interpretable model that helps the bank manage credit exposure and predict customer default patterns, which will enable them to handle unprecended volumes of financial data and customer behavior data with confidence. In this project, several data sources such as historical behavioral data, financial indicator data, machine learning techniques like classification methods and ensemble methods will be analyzed and compared.', 'questions_this_excerpt_can_answer': 'What is the project aimed at improving credit risk management frameworks of a bank by developing a forward-looking classification model with behavioral data and risk-based techniques?\\n\\nThe project aims to create an interpretable model that helps the bank manage credit exposure, predict customer default patterns, and predict customer credit card default using forward-looking classification model with behavioral data and risk-based techniques.', 'section_summary': 'The project aims to improve credit risk management frameworks by developing a forward-looking classification model with behavioral data and risk-based techniques using data sources such as historical behavioral data, financial indicator data, and machine learning techniques. The project involves analyzing and comparing multiple models based on business risk trade-offs and selecting an appropriate performance metric like F1-score or precision to guide final prediction. It also conducts in-depth analysis of behavioral treaties, engineers meaningful features, and evaluates and optimizes classification thresholds based on business risk traditions, selects final predictions using real-world credit risk managemet goals, and generates risk-informed predictions on an unlabelled validation set.', 'excerpt_keywords': 'Title: Project 2: Credit Card Behavior Score Prediction Using Classification and Risky Techniques (Review of Existing Work)\\n\\nOverview: This project aims to improve credit risk management frameworks by developing forward-looking classification models using behavioral data and risk-based techniques. The goal is to create an interpretable model that helps the bank manage credit exposure, predict customer default patterns, and predict customer credit card default using forward-looking classification model with behavioral data and risk-based techniques like machine learning techniques. The project involves analyzing various models based on business risk trade-offs and selecting an appropriate performance metric like F1-score or precision to guide final prediction and conducts in-depth analyses of behavioral treaties, engineer meaningful features, and evaluate and optimize classification thresholds based on business risk tradition. The project aims to generate risk-informed predictions on an unlabelled validation set and ensure real-world credit risk management goals.'}\n",
      "-------------------------------------------------------------------------------------------------------------\n",
      "{'page_label': '2', 'file_name': 'REPORT_24114065.pdf', 'file_path': 'C:\\\\Users\\\\ponna\\\\Downloads\\\\REPORT_24114065.pdf', 'file_type': 'application/pdf', 'file_size': 6407402, 'creation_date': '2025-06-16', 'last_modified_date': '2025-06-16', 'document_title': 'Title: \"Economic Impact of Aid Recipient Countries in the Aftermath of COVID-19\"', 'questions_this_excerpt_can_answer': 'Question 1: What were the economic impacts of aid reciepient countries in the aftermath of COVID-19, and how have these affected their populations?\\n\\nExplanation: This question seeks to explore how the pandemic has affected the livelihoods and economic stability of people living in aid recipient countries. By looking at specific factors such as GDP growth rates, unemployment levels, and inflation rates, this question aims to get an insight into the broader economic impact of COVID-19 on these populations.\\n\\nQuestion 2: What are some of the gender disparities that have been observed in aid reciepient countries since the pandemic started?\\n\\nExplanation: This question seeks to address the impact of COVID-19 on gender equality, specifically examining how these conditions have affected women and girls. By looking at factors such as access to education and employment opportunities, this question aims to get an insight into how women have been disproportionately affected by the pandemic in aid reciepient countries.\\n\\nQuestion 3: How has the provision of healthcare and social support during COVID-19 affected people living in aid reciepient countries?\\n\\nExplanation: This question seeks to explore how the pandemic has impacted the availability, accessibility, and quality of healthcare and social support services for vulnerable populations living in aid reciepient countries. By looking at factors such as healthcare system capacity, access to medical supplies, and social safety nets, this question aims to get an insight into how COVID-19 has affected these services and the broader social determinants of health for these communities.', 'prev_section_summary': 'The project aims to improve credit risk management frameworks by developing a forward-looking classification model with behavioral data and risk-based techniques using data sources such as historical behavioral data, financial indicator data, and machine learning techniques. The project involves analyzing and comparing multiple models based on business risk trade-offs and selecting an appropriate performance metric like F1-score or precision to guide final prediction. It also conducts in-depth analysis of behavioral treaties, engineers meaningful features, and evaluates and optimizes classification thresholds based on business risk traditions, selects final predictions using real-world credit risk managemet goals, and generates risk-informed predictions on an unlabelled validation set.', 'section_summary': 'The report examines economic impacts, gender disparities, and social support services for people living in aid recipient countries since the onset of COVID-19. The section includes several variables such as ID, sex, education, marriage status, age, payment status, bill amount, previous payments, and billed amounts.', 'excerpt_keywords': '[Excerpt from document]\\npage_label: 2\\nfile_name: REPORT_24114065.pdf\\nfile_path: C:\\\\Users\\\\ponna\\\\Downloads\\\\REPORT_24114065.pdf\\nfile_type: application/pdf\\nfile_size: 6407402\\ncreation_date: 2025-06-16\\nlast_modified_date: 2025-06-16\\ndocument_title: Title: \"Economic Impact of Aid Recipient Countries in the Aftermath of COVID-19\"\\nquestions_this_excerpt_can_answer: Question 1: What were the economic impacts of aid recipient countries in the aftermath of COVID-19, and how have these affected their populations?'}\n",
      "-------------------------------------------------------------------------------------------------------------\n",
      "{'page_label': '3', 'file_name': 'REPORT_24114065.pdf', 'file_path': 'C:\\\\Users\\\\ponna\\\\Downloads\\\\REPORT_24114065.pdf', 'file_type': 'application/pdf', 'file_size': 6407402, 'creation_date': '2025-06-16', 'last_modified_date': '2025-06-16', 'document_title': 'Title: The Progress of Notebook: A Study on Credit Default Prediction with a Comprehensive Assessment of Data Preprocessing, Data Preparedition, Data Engineering, Feature Engineering, and Model Development Using Machine Learning Methods', 'questions_this_excerpt_can_answer': 'Given the context: A study on credit default prediction with comprehensive assessment of data preprocessing, data preparation, data engineering, and model development using machine learning methods is being conducted. The progress is organized as follows: Data loading and description, data processing, data preparation, data visualization, feature engineering, feature selection, and model evaluation. Data loading and description are to load two key datasets containing historical data of around 25,000 customers including input features (such as age, credit limit, payment history, etc.), target variable indicating whether each customer defaulted or not. The training and evaluation datasets are used for training and evaluating various machine learning models by applying preprocessing steps like missing value imputation, normalization, and categorical encoding. Finally, the results are saved in a CSV file containing the predicted default labels as well as the corresponding submission for decision-making or submission to a database.', 'prev_section_summary': 'The report examines economic impacts, gender disparities, and social support services for people living in aid recipient countries since the onset of COVID-19. The section includes several variables such as ID, sex, education, marriage status, age, payment status, bill amount, previous payments, and billed amounts.', 'section_summary': 'The \"Progress of Notebook: A Study on Credit Default Prediction with Comprehensive Assessment of Data Preprocessing, Data Preparation, Data Engineering, and Model Development Using Machine Learning Methods\" includes data loading and description, data processing, data preparation, data visualization, feature engineering, feature selection, and model evaluation. The progress is organized as follows: Data loading and description are organized into data loading and description in the first section, followed by data processing, data preparation, data visualization, feature engineering, feature selection, and model evaluation in subsequent sections. The dataset used for this study includes two key datasets: train_dataset_final1.csv and validation.csv, both containing historical data of around 25,000 customers with input features such as age, credit limit, payment history, etc. The target variable is used to predict default labels. This section includes data display using the read_csv() function from the PanDA library. Overall, the progress follows a series of comprehensive assessments and data preparation steps to create an efficient model for predicting credit default among customers.', 'excerpt_keywords': '[Excerpt from document]\\nPage label: 3\\nFile path: C:\\\\Users\\\\ponna\\\\Downloads\\\\REPORT_24114065.pdf\\nFile name: Title: The Progress of Notebook: A Study on Credit Default Prediction with Comprehensive Assessment of Data Preprocessing, Data Preparation, Data Engineering, Feature Engineering, and Model Development Using Machine Learning Methods\\nQuestions this excerpt can answer: Given the context: A study on credit default prediction with comprehensive assessment of data preprocassing, data preparation, data engineering, and model development using machine learning methods is being conducted. The progress is organized as follows: Data loading and description are to load two key datasets containing historical data of around 25,000 customers including input features (such as age, credit limit, payment history, etc.), target variable indicating whether each customer defaulted or not. The training and evaluation datasets are used for training and evaluating various machine learning models. Data loading and description are organized into data loading and description in the first section, followed by data processing, data preparation, data visualization, feature engineering, feature selection, and model evaluation in subsequent sections. The dataset used for this study includes two key datasets: train_dataset_final1.csv and validation.csv.'}\n",
      "-------------------------------------------------------------------------------------------------------------\n"
     ]
    }
   ],
   "source": [
    "for i in nodes:\n",
    "    print(i.metadata)\n",
    "    print(\"-------------------------------------------------------------------------------------------------------------\")"
   ]
  },
  {
   "cell_type": "code",
   "execution_count": null,
   "id": "1150081c-607f-4f2b-9c56-afacf4fc0720",
   "metadata": {},
   "outputs": [],
   "source": []
  },
  {
   "cell_type": "code",
   "execution_count": null,
   "id": "d7174b90-a946-4972-a6d4-a5f87001f668",
   "metadata": {},
   "outputs": [],
   "source": []
  }
 ],
 "metadata": {
  "kernelspec": {
   "display_name": "Python 3 (ipykernel)",
   "language": "python",
   "name": "python3"
  },
  "language_info": {
   "codemirror_mode": {
    "name": "ipython",
    "version": 3
   },
   "file_extension": ".py",
   "mimetype": "text/x-python",
   "name": "python",
   "nbconvert_exporter": "python",
   "pygments_lexer": "ipython3",
   "version": "3.12.7"
  }
 },
 "nbformat": 4,
 "nbformat_minor": 5
}
